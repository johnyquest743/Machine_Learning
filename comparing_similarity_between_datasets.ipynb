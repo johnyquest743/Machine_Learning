{
 "cells": [
  {
   "cell_type": "markdown",
   "id": "26efa872-cff7-4596-920c-ad2588c45b27",
   "metadata": {},
   "source": [
    "### Reference :\n",
    "\n",
    "_https://towardsdatascience.com/how-dis-similar-are-my-train-and-test-data-56af3923de9b_"
   ]
  },
  {
   "cell_type": "markdown",
   "id": "080c3af8-27a3-4348-b87e-30ad1abd74b3",
   "metadata": {},
   "source": [
    "Procedure to check if training and test datasets are same or not:\n",
    "\n",
    ">First step is to divide the dataset into train (D_train) and test (D_test) sets.\n",
    "\n",
    ">Label all the points of D_train dataset to '1' (positive) and all D_test dataset to '0' (negative), Lets say this new dataset id D_new\n",
    "\n",
    ">Now train a classifer model for the above dataset and get the accuracy.\n",
    "\n",
    ">If the accuracy on the above dataset 'D_new' is low, we can conclude that both train and test distributions are similar. It means that the trained model is not able to distinguish the datapoints belonging to different classes.milar to train data.\n",
    "\n",
    ">If the accuracy of the model is medium, we can conclude that both train and test datasets are not very similar.\n",
    "\n",
    ">If the accuracy of the model is high, we can conclude that both train and test dataset are not similar.\n",
    "\n",
    "__Solution if both datasets are dissimilar:__\n",
    "\n",
    "- Dropping of drifting features (If the feature importance of this feature is low).\n",
    "\n",
    "- Importance weight using Density Ratio Estimation."
   ]
  },
  {
   "cell_type": "markdown",
   "id": "97f79bc8-3071-4bd4-a30b-924bd033fdbf",
   "metadata": {},
   "source": [
    "***\n",
    "__Using Kolmogorov-Smirnov test to check if two random variables are having the same distribution or not__\n",
    "***\n",
    "_If the K-S statistic is small or the p-value is high, then we cannot reject the hypothesis that the distributions of the two samples are the same._\n",
    "\n",
    "_From wikipedia page :_\n",
    "\n",
    "In statistics, the Kolmogorov–Smirnov test (K-S test or KS test) is a nonparametric test of the equality of continuous (or discontinuous), one-dimensional probability distributions that can be used to compare a sample with a reference probability distribution (one-sample K–S test), or to compare two samples (two-sample K–S test). In essence, the test answers the question \"What is the probability that this collection of samples could have been drawn from that probability distribution?\" or, in the second case, \"What is the probability that these two sets of samples were drawn from the same (but unknown) probability distribution?\". It is named after Andrey Kolmogorov and Nikolai Smirnov.\n",
    "\n",
    "The Kolmogorov–Smirnov statistic quantifies a distance between the empirical distribution function of the sample and the cumulative distribution function of the reference distribution, or between the empirical distribution functions of two samples. The null distribution of this statistic is calculated under the null hypothesis that the sample is drawn from the reference distribution (in the one-sample case) or that the samples are drawn from the same distribution (in the two-sample case). In the one-sample case, the distribution considered under the null hypothesis may be continuous (see Section 2), purely discrete or mixed (see Section 2.2). In the two-sample case (see Section 3), the distribution considered under the null hypothesis is a continuous distribution but is otherwise unrestricted. However, the two sample test can also be performed under more general conditions that allow for discontinuity, heterogeneity and dependence across samples.[1] "
   ]
  },
  {
   "cell_type": "code",
   "execution_count": 6,
   "id": "a6cef9e6-6ac6-46a3-abea-4c30975c8a05",
   "metadata": {},
   "outputs": [],
   "source": [
    "import pandas as pd\n",
    "import numpy as np\n",
    "import matplotlib.pyplot as plt\n",
    "import seaborn as sns\n",
    "\n",
    "from sklearn.datasets import load_diabetes\n",
    "from sklearn.model_selection import train_test_split\n",
    "\n",
    "dataset = load_diabetes(as_frame=True)\n",
    "X,y = dataset['data'],dataset['target']\n",
    "\n",
    "X_train, X_test, y_train, y_test = train_test_split(X, y, test_size=0.33, random_state=0)"
   ]
  },
  {
   "cell_type": "markdown",
   "id": "7317921c-4be6-42e7-a7f8-c7b5a0d08d03",
   "metadata": {},
   "source": [
    "_Plotting the cumulative distribution function of ‘bp’ feature for both training and test datasets using seaborn:_"
   ]
  },
  {
   "cell_type": "code",
   "execution_count": 7,
   "id": "9be56352-2edc-4323-b318-3d513fcb013e",
   "metadata": {},
   "outputs": [
    {
     "data": {
      "text/plain": [
       "<AxesSubplot:xlabel='bp', ylabel='Proportion'>"
      ]
     },
     "execution_count": 7,
     "metadata": {},
     "output_type": "execute_result"
    },
    {
     "data": {
      "image/png": "[encoded data removed]",
      "text/plain": [
       "<Figure size 432x288 with 1 Axes>"
      ]
     },
     "metadata": {
      "needs_background": "light"
     },
     "output_type": "display_data"
    }
   ],
   "source": [
    "feature_name = 'bp'\n",
    "\n",
    "df = pd.DataFrame({\n",
    "    feature_name:np.concatenate((X_train.loc[:,feature_name],X_test.loc[:,feature_name])),\n",
    "    'set':['training']*X_train.shape[0] + ['test']*X_test.shape[0]\n",
    "    })\n",
    "sns.ecdfplot(data=df,x=feature_name,hue='set')"
   ]
  },
  {
   "cell_type": "markdown",
   "id": "73bf3d13-a126-4bdf-8221-f74eb7f22fc5",
   "metadata": {},
   "source": [
    "In order to quantify the difference between the two distributions with a single number, we can use Kolmogorov-Smirnov distance. Given C(x) the cumulative distribution of feature x in the training dataset and G(x) the cumulative distribution of the same feature in the test dataset, the distance is defined as the maximum distance between these curves.\n",
    "\n",
    "The lower the distance, the more similar the distributions of the features among the training and test datasets.\n"
   ]
  },
  {
   "cell_type": "code",
   "execution_count": 8,
   "id": "194fd3d8-6154-4897-b480-a277d3d071a6",
   "metadata": {},
   "outputs": [
    {
     "data": {
      "text/plain": [
       "0.11972417623102555"
      ]
     },
     "execution_count": 8,
     "metadata": {},
     "output_type": "execute_result"
    }
   ],
   "source": [
    "ks_2samp(X_train.loc[:,feature_name],X_test.loc[:,feature_name]).statistic"
   ]
  },
  {
   "cell_type": "markdown",
   "id": "70453996-194d-427f-a493-1f1c713bb59c",
   "metadata": {},
   "source": [
    "__We can calculate the distance between the two datasets as the maximum distance between their features.__"
   ]
  },
  {
   "cell_type": "code",
   "execution_count": 9,
   "id": "b72b1124-9d10-4e37-b5b9-3e4dfd8265fe",
   "metadata": {},
   "outputs": [],
   "source": [
    "distances = list(map(lambda i : ks_2samp(X_train.iloc[:,i],X_test.iloc[:,i]).statistic,range(X_train.shape[1])))"
   ]
  },
  {
   "cell_type": "code",
   "execution_count": 11,
   "id": "4255e250-c402-4332-8737-86fcbb51215f",
   "metadata": {},
   "outputs": [
    {
     "name": "stdout",
     "output_type": "stream",
     "text": [
      "age 0.05715475749722325\n",
      "sex 0.054979637171417996\n",
      "bmi 0.08015549796371714\n",
      "bp 0.11972417623102555\n",
      "s1 0.07284339133654202\n",
      "s2 0.08908737504627916\n",
      "s3 0.07936875231395779\n",
      "s4 0.06613291373565346\n",
      "s5 0.05858941132913736\n",
      "s6 0.09667715660866345\n"
     ]
    }
   ],
   "source": [
    "for i in range(X_train.shape[1]):\n",
    "  print(X_train.columns[i], distances[i])"
   ]
  },
  {
   "cell_type": "markdown",
   "id": "3b70395b-cc78-4f48-a441-5014cae6397d",
   "metadata": {},
   "source": [
    "As we can see, the feature that has the lower bias is ‘sex’, while the worst one is ‘bp’. The distance between the datasets is the worst distance, so 0.1197."
   ]
  },
  {
   "cell_type": "code",
   "execution_count": null,
   "id": "d1b2fb4d-b9c0-4ad6-a476-6a0f71128bec",
   "metadata": {},
   "outputs": [],
   "source": []
  },
  {
   "cell_type": "code",
   "execution_count": 2,
   "id": "70a185ec-451e-463b-bd78-437cbed225e1",
   "metadata": {},
   "outputs": [
    {
     "data": {
      "text/plain": [
       "KstestResult(statistic=0.023, pvalue=0.9542189106778983)"
      ]
     },
     "execution_count": 2,
     "metadata": {},
     "output_type": "execute_result"
    }
   ],
   "source": [
    "from scipy.stats import ks_2samp\n",
    "import numpy as np\n",
    " \n",
    "np.random.seed(12345678)\n",
    "x = np.random.normal(0, 1, 1000)\n",
    "y = np.random.normal(0, 1, 1000)\n",
    "z = np.random.normal(1.1, 0.9, 1000)\n",
    " \n",
    "ks_2samp(x, y)"
   ]
  },
  {
   "cell_type": "code",
   "execution_count": 3,
   "id": "f0d6526f-6432-49fd-8a02-b7db52a3874d",
   "metadata": {},
   "outputs": [
    {
     "data": {
      "text/plain": [
       "KstestResult(statistic=0.418, pvalue=1.2040448267583641e-78)"
      ]
     },
     "execution_count": 3,
     "metadata": {},
     "output_type": "execute_result"
    }
   ],
   "source": [
    "ks_2samp(x, z)"
   ]
  }
 ],
 "metadata": {
  "kernelspec": {
   "display_name": "trad_mlenv",
   "language": "python",
   "name": "trad_mlenv"
  },
  "language_info": {
   "codemirror_mode": {
    "name": "ipython",
    "version": 3
   },
   "file_extension": ".py",
   "mimetype": "text/x-python",
   "name": "python",
   "nbconvert_exporter": "python",
   "pygments_lexer": "ipython3",
   "version": "3.8.13"
  }
 },
 "nbformat": 4,
 "nbformat_minor": 5
}
