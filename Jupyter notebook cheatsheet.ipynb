{
 "cells": [
  {
   "cell_type": "markdown",
   "id": "f1656d32-d914-403c-89fa-f03117a71eb0",
   "metadata": {},
   "source": [
    "__Markdown for Jupyter notebooks cheatsheet__"
   ]
  },
  {
   "cell_type": "markdown",
   "id": "8d718373-e66e-4902-90c9-2e572362c855",
   "metadata": {},
   "source": [
    "Headings\n",
    "    Use the number sign (#) followed by a blank space for notebook titles and section headings:\n",
    "\n",
    "        # for titles\n",
    "        ## for major headings\n",
    "        ### for subheadings\n",
    "        #### for 4th level subheadings\n",
    "\n"
   ]
  },
  {
   "cell_type": "markdown",
   "id": "955f199f-81e0-4f94-bf25-242144960dda",
   "metadata": {},
   "source": [
    "Emphasis\n",
    "    Use the following code to emphasize text:\n",
    "\n",
    "        Bold text: __string__ or **string**\n",
    "        Italic text: _string_ or *string*\n",
    "\n"
   ]
  },
  {
   "cell_type": "markdown",
   "id": "d9d50efb-8bc2-42ab-aa6d-eaf2b78d7f25",
   "metadata": {},
   "source": [
    "Mathematical symbols\n",
    "    Surround mathematical symbols with a dollar sign ($), for example:\n",
    "\n",
    "    $ mathematical symbols $"
   ]
  },
  {
   "cell_type": "markdown",
   "id": "4940350a-2c5e-472f-b41f-702fd5e2b10f",
   "metadata": {},
   "source": [
    "Monospace font\n",
    "    Surround text with a grave accent (`) also called a back single quotation mark, for example:\n",
    "\n",
    "    `string`"
   ]
  },
  {
   "cell_type": "markdown",
   "id": "ae0147f7-ac44-41b9-a764-b9c80f78c63a",
   "metadata": {},
   "source": [
    "Line breaks\n",
    "    Sometimes markdown doesn’t make line breaks when you want them. To force a linebreak, use the following code: <br>"
   ]
  },
  {
   "cell_type": "markdown",
   "id": "fb43d4f1-d97d-44af-b975-611411fdf711",
   "metadata": {},
   "source": [
    "Indenting\n",
    "    Use the greater than sign (>) followed by a space, for example:\n",
    "\n",
    "    > Text that will be indented when the Markdown is rendered."
   ]
  },
  {
   "cell_type": "markdown",
   "id": "c337655c-482d-43b9-bf3d-d0c13c4493e6",
   "metadata": {},
   "source": [
    "Bullets\n",
    "    To create a circular bullet point, use one of the following methods. Each bullet point must be on its own line.\n",
    "\n",
    "        A hyphen (-) followed by one or two spaces, for example: - Bulleted item\n",
    "        A space, a hyphen (-) and a space, for example: - Bulleted item\n",
    "        An asterisk (*) followed by one or two spaces, for example: * Bulleted item\n"
   ]
  },
  {
   "cell_type": "markdown",
   "id": "dfaac351-8230-4506-9e46-39354d9f4ebf",
   "metadata": {},
   "source": [
    "To create a sub bullet, press Tab before entering the bullet point using one of the methods described above. For example:\n",
    "\n",
    "- Main bullet point\n",
    "     - Sub bullet point\n"
   ]
  },
  {
   "cell_type": "markdown",
   "id": "9f3eb2d5-6c75-42c2-a3d1-40e7a5204753",
   "metadata": {},
   "source": [
    "\n",
    "Numbered lists\n",
    "    To create a numbered list, enter 1. followed by a space, for example:\n",
    "\n",
    "    1. Numbered item\n",
    "    1. Numbered item\n",
    "    \n",
    "For simplicity, you use 1. before each entry. The list will be numbered correctly when you run the cell.    "
   ]
  },
  {
   "cell_type": "markdown",
   "id": "eb289a97-4c8b-4ee9-acc2-b87e24c52796",
   "metadata": {},
   "source": [
    "To create a substep, press Tab before entering the numbered item, for example:\n",
    "\n",
    "1. Numbered item\n",
    "     1. Substep"
   ]
  },
  {
   "cell_type": "markdown",
   "id": "8f19a78d-8873-496d-9ab3-4c79a7bbc3ba",
   "metadata": {},
   "source": [
    "Colored note boxes\n",
    "    Use one of the following <div> tags to display text in a colored box.\n",
    "    \n",
    "    The color of the box is determined by the alert type that you specify:\n",
    "\n",
    "    Blue boxes (alert-info)\n",
    "\n",
    "    <div class=\"alert alert-block alert-info\">\n",
    "    <b>Tip:</b> Use blue boxes (alert-info) for tips and notes. \n",
    "    If it’s a note, you don’t have to include the word “Note”.\n",
    "    </div>"
   ]
  },
  {
   "cell_type": "markdown",
   "id": "025a87b7-a372-434b-a061-55a1dbab9bbc",
   "metadata": {},
   "source": [
    "<div class=\"alert alert-block alert-info\">\n",
    "<b>Tip:</b> Use blue boxes (alert-info) for tips and notes. \n",
    "If it’s a note, you don’t have to include the word “Note”.\n",
    "</div>"
   ]
  },
  {
   "cell_type": "markdown",
   "id": "9810e831-d018-459c-b8b5-3fe80ca2244d",
   "metadata": {},
   "source": [
    "Yellow boxes (alert-warning)\n",
    "\n",
    "<div class=\"alert alert-block alert-warning\">\n",
    "<b>Example:</b> Use yellow boxes for examples that are not \n",
    "inside code cells, or use for mathematical formulas if needed.\n",
    "</div>"
   ]
  },
  {
   "cell_type": "markdown",
   "id": "259d4619-1986-42a4-a6b1-825bcbf25e12",
   "metadata": {},
   "source": [
    "Green boxes (alert-success)\n",
    "\n",
    "<div class=\"alert alert-block alert-success\">\n",
    "<b>Up to you:</b> Use green boxes sparingly, and only for some specific \n",
    "purpose that the other boxes can't cover. For example, if you have a lot \n",
    "of related content to link to, maybe you decide to use green boxes for \n",
    "related links from each section of a notebook.\n",
    "</div>"
   ]
  },
  {
   "cell_type": "markdown",
   "id": "350e68ef-9d14-4017-a775-daa3ed4482f4",
   "metadata": {},
   "source": [
    "Red boxes (alert-danger)\n",
    "\n",
    "<div class=\"alert alert-block alert-danger\">\n",
    "<b>Just don't:</b> In general, avoid the red boxes. These should only be\n",
    "used for actions that might cause data loss or another major issue.\n",
    "</div>"
   ]
  },
  {
   "cell_type": "markdown",
   "id": "0abe66ca-b944-4914-97b9-fc9d4ac52f5b",
   "metadata": {},
   "source": [
    "Graphics\n",
    "    You can attach image files directly to a notebook in Markdown cells by dragging and dropping it into the cell.\n",
    "\n",
    "    To add images to other cell types, use graphics that are hosted on the web with this code, substituting url/name with the full URL and name of the image:\n",
    "\n",
    "    <img src=“url/filename.gif” alt=“Alt text” title=“Title text” />"
   ]
  },
  {
   "cell_type": "markdown",
   "id": "79846591-3730-4cac-97cd-5e7397cf88f3",
   "metadata": {},
   "source": [
    "Geometric shapes\n",
    "    Use &# followed by the decimal or hex reference number for the shape, for example:\n",
    "\n",
    "    &#reference_number"
   ]
  },
  {
   "cell_type": "markdown",
   "id": "c78abd92-f36d-487e-830e-3723ea08d795",
   "metadata": {},
   "source": [
    "Horizontal lines\n",
    "    On a new line, enter three asterisks:\n",
    "\n",
    "    ***\n",
    "***   \n",
    "***   "
   ]
  },
  {
   "cell_type": "markdown",
   "id": "b7072cfd-1296-47f3-80f0-7866a3b3750e",
   "metadata": {},
   "source": [
    "Internal links\n",
    "    To link to a section within your notebook, use the following code:\n",
    "\n",
    "    [Section title](#section-title)\n",
    "        \n",
    "For the text inside the parentheses, replace any spaces and special characters with a hyphen. For example, if your section is called Analyzing customer purchasing habits, you'd enter:\n",
    "\n",
    "[Analyzing customer purchasing habits](#analyzing-customer-purchasing-habits)\n",
    "\n",
    "Alternatively, you can add an ID above the section:\n",
    "\n",
    "<a id=\"section_ID\"></a>"
   ]
  },
  {
   "cell_type": "markdown",
   "id": "2cb51c25-8039-4685-bed6-d68aaf688b1e",
   "metadata": {},
   "source": [
    "External links\n",
    "    To link to an external site, use the following code:\n",
    "\n",
    "    __[link text](http://url)__"
   ]
  },
  {
   "cell_type": "markdown",
   "id": "cc4bdab1-c0ae-48d0-8743-ed5322d49fe5",
   "metadata": {},
   "source": []
  },
  {
   "cell_type": "markdown",
   "id": "eeda5025-ccc9-4156-aa63-8816b09cc483",
   "metadata": {},
   "source": []
  },
  {
   "cell_type": "markdown",
   "id": "4b2395d6-5e10-4323-b2a0-a457a736b550",
   "metadata": {},
   "source": []
  },
  {
   "cell_type": "markdown",
   "id": "dd68b84a-af13-4595-bcdb-194ffb992743",
   "metadata": {},
   "source": []
  },
  {
   "cell_type": "markdown",
   "id": "782757fd-ece0-45c2-a5cd-2b72034de3fd",
   "metadata": {},
   "source": []
  },
  {
   "cell_type": "markdown",
   "id": "d554d5fc-1115-40e6-a315-9ec64540906d",
   "metadata": {},
   "source": []
  },
  {
   "cell_type": "code",
   "execution_count": null,
   "id": "d45b6e8c-e3d9-41c4-82cc-e8cc69a6b490",
   "metadata": {},
   "outputs": [],
   "source": []
  }
 ],
 "metadata": {
  "kernelspec": {
   "display_name": "trad_mlenv",
   "language": "python",
   "name": "trad_mlenv"
  },
  "language_info": {
   "codemirror_mode": {
    "name": "ipython",
    "version": 3
   },
   "file_extension": ".py",
   "mimetype": "text/x-python",
   "name": "python",
   "nbconvert_exporter": "python",
   "pygments_lexer": "ipython3",
   "version": "3.8.13"
  }
 },
 "nbformat": 4,
 "nbformat_minor": 5
}
