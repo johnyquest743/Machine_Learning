{
 "cells": [
  {
   "cell_type": "code",
   "execution_count": 1,
   "id": "c27ec691-0350-4f38-afe1-12c7ca0492ba",
   "metadata": {},
   "outputs": [],
   "source": [
    "import numpy as np\n",
    "import pandas as pd\n",
    "import matplotlib.pyplot as plt\n",
    "import seaborn as sns"
   ]
  },
  {
   "cell_type": "code",
   "execution_count": 2,
   "id": "1ef79911-58a6-4d0c-bfca-adb772aedfbd",
   "metadata": {},
   "outputs": [
    {
     "data": {
      "text/html": [
       "<div>\n",
       "<style scoped>\n",
       "    .dataframe tbody tr th:only-of-type {\n",
       "        vertical-align: middle;\n",
       "    }\n",
       "\n",
       "    .dataframe tbody tr th {\n",
       "        vertical-align: top;\n",
       "    }\n",
       "\n",
       "    .dataframe thead th {\n",
       "        text-align: right;\n",
       "    }\n",
       "</style>\n",
       "<table border=\"1\" class=\"dataframe\">\n",
       "  <thead>\n",
       "    <tr style=\"text-align: right;\">\n",
       "      <th></th>\n",
       "      <th>age</th>\n",
       "      <th>workclass</th>\n",
       "      <th>fnlwgt</th>\n",
       "      <th>education</th>\n",
       "      <th>education_num</th>\n",
       "      <th>marital_status</th>\n",
       "      <th>occupation</th>\n",
       "      <th>relationship</th>\n",
       "      <th>race</th>\n",
       "      <th>sex</th>\n",
       "      <th>capital_gain</th>\n",
       "      <th>capital_loss</th>\n",
       "      <th>hours_per_week</th>\n",
       "      <th>native_country</th>\n",
       "      <th>income</th>\n",
       "    </tr>\n",
       "  </thead>\n",
       "  <tbody>\n",
       "    <tr>\n",
       "      <th>0</th>\n",
       "      <td>39</td>\n",
       "      <td>State-gov</td>\n",
       "      <td>77516</td>\n",
       "      <td>Bachelors</td>\n",
       "      <td>13</td>\n",
       "      <td>Never-married</td>\n",
       "      <td>Adm-clerical</td>\n",
       "      <td>Not-in-family</td>\n",
       "      <td>White</td>\n",
       "      <td>Male</td>\n",
       "      <td>2174</td>\n",
       "      <td>0</td>\n",
       "      <td>40</td>\n",
       "      <td>United-States</td>\n",
       "      <td>&lt;=50K</td>\n",
       "    </tr>\n",
       "    <tr>\n",
       "      <th>1</th>\n",
       "      <td>50</td>\n",
       "      <td>Self-emp-not-inc</td>\n",
       "      <td>83311</td>\n",
       "      <td>Bachelors</td>\n",
       "      <td>13</td>\n",
       "      <td>Married-civ-spouse</td>\n",
       "      <td>Exec-managerial</td>\n",
       "      <td>Husband</td>\n",
       "      <td>White</td>\n",
       "      <td>Male</td>\n",
       "      <td>0</td>\n",
       "      <td>0</td>\n",
       "      <td>13</td>\n",
       "      <td>United-States</td>\n",
       "      <td>&lt;=50K</td>\n",
       "    </tr>\n",
       "    <tr>\n",
       "      <th>2</th>\n",
       "      <td>38</td>\n",
       "      <td>Private</td>\n",
       "      <td>215646</td>\n",
       "      <td>HS-grad</td>\n",
       "      <td>9</td>\n",
       "      <td>Divorced</td>\n",
       "      <td>Handlers-cleaners</td>\n",
       "      <td>Not-in-family</td>\n",
       "      <td>White</td>\n",
       "      <td>Male</td>\n",
       "      <td>0</td>\n",
       "      <td>0</td>\n",
       "      <td>40</td>\n",
       "      <td>United-States</td>\n",
       "      <td>&lt;=50K</td>\n",
       "    </tr>\n",
       "    <tr>\n",
       "      <th>3</th>\n",
       "      <td>53</td>\n",
       "      <td>Private</td>\n",
       "      <td>234721</td>\n",
       "      <td>11th</td>\n",
       "      <td>7</td>\n",
       "      <td>Married-civ-spouse</td>\n",
       "      <td>Handlers-cleaners</td>\n",
       "      <td>Husband</td>\n",
       "      <td>Black</td>\n",
       "      <td>Male</td>\n",
       "      <td>0</td>\n",
       "      <td>0</td>\n",
       "      <td>40</td>\n",
       "      <td>United-States</td>\n",
       "      <td>&lt;=50K</td>\n",
       "    </tr>\n",
       "    <tr>\n",
       "      <th>4</th>\n",
       "      <td>28</td>\n",
       "      <td>Private</td>\n",
       "      <td>338409</td>\n",
       "      <td>Bachelors</td>\n",
       "      <td>13</td>\n",
       "      <td>Married-civ-spouse</td>\n",
       "      <td>Prof-specialty</td>\n",
       "      <td>Wife</td>\n",
       "      <td>Black</td>\n",
       "      <td>Female</td>\n",
       "      <td>0</td>\n",
       "      <td>0</td>\n",
       "      <td>40</td>\n",
       "      <td>Cuba</td>\n",
       "      <td>&lt;=50K</td>\n",
       "    </tr>\n",
       "  </tbody>\n",
       "</table>\n",
       "</div>"
      ],
      "text/plain": [
       "   age         workclass  fnlwgt  education  education_num  \\\n",
       "0   39         State-gov   77516  Bachelors             13   \n",
       "1   50  Self-emp-not-inc   83311  Bachelors             13   \n",
       "2   38           Private  215646    HS-grad              9   \n",
       "3   53           Private  234721       11th              7   \n",
       "4   28           Private  338409  Bachelors             13   \n",
       "\n",
       "       marital_status         occupation   relationship   race     sex  \\\n",
       "0       Never-married       Adm-clerical  Not-in-family  White    Male   \n",
       "1  Married-civ-spouse    Exec-managerial        Husband  White    Male   \n",
       "2            Divorced  Handlers-cleaners  Not-in-family  White    Male   \n",
       "3  Married-civ-spouse  Handlers-cleaners        Husband  Black    Male   \n",
       "4  Married-civ-spouse     Prof-specialty           Wife  Black  Female   \n",
       "\n",
       "   capital_gain  capital_loss  hours_per_week native_country income  \n",
       "0          2174             0              40  United-States  <=50K  \n",
       "1             0             0              13  United-States  <=50K  \n",
       "2             0             0              40  United-States  <=50K  \n",
       "3             0             0              40  United-States  <=50K  \n",
       "4             0             0              40           Cuba  <=50K  "
      ]
     },
     "execution_count": 2,
     "metadata": {},
     "output_type": "execute_result"
    }
   ],
   "source": [
    " ## \"skipinitialspace = True\"  is used to trim the white spaces from all cells in the dataframe\n",
    "\n",
    "column_names = ['age', 'workclass', 'fnlwgt' , 'education', 'education_num' , 'marital_status', 'occupation', 'relationship', 'race', 'sex','capital_gain' ,'capital_loss' , 'hours_per_week', 'native_country', 'income']\n",
    "data_df = pd.read_csv('adult.csv', names=column_names, skipinitialspace = True)\n",
    "data_df.head()"
   ]
  },
  {
   "cell_type": "code",
   "execution_count": null,
   "id": "29d0c739-0bba-4692-94a0-dc43043a3e66",
   "metadata": {},
   "outputs": [],
   "source": [
    "# data_df.apply(lambda x: x.str.strip() if x.dtype == \"object\" else x)\n",
    "# data_df.head()"
   ]
  },
  {
   "cell_type": "markdown",
   "id": "7595034f-6434-42ff-a7b8-26ac765f7dd0",
   "metadata": {},
   "source": [
    "#### Check count of unique values in each column."
   ]
  },
  {
   "cell_type": "code",
   "execution_count": 5,
   "id": "9b5422d8-67cd-4e09-a90a-0f6d24a67432",
   "metadata": {},
   "outputs": [
    {
     "data": {
      "text/plain": [
       "sex                   2\n",
       "income                2\n",
       "race                  5\n",
       "relationship          6\n",
       "marital_status        7\n",
       "workclass             9\n",
       "occupation           15\n",
       "education            16\n",
       "education_num        16\n",
       "native_country       42\n",
       "age                  73\n",
       "capital_loss         92\n",
       "hours_per_week       94\n",
       "capital_gain        119\n",
       "fnlwgt            21648\n",
       "dtype: int64"
      ]
     },
     "execution_count": 5,
     "metadata": {},
     "output_type": "execute_result"
    }
   ],
   "source": [
    "data_df.nunique().sort_values()"
   ]
  },
  {
   "cell_type": "code",
   "execution_count": 6,
   "id": "ae7fcd61-908c-4e5b-82dc-6a3cdc07e52c",
   "metadata": {},
   "outputs": [
    {
     "name": "stdout",
     "output_type": "stream",
     "text": [
      "Categorical columns : Index(['workclass', 'education', 'marital_status', 'occupation',\n",
      "       'relationship', 'race', 'sex', 'native_country', 'income'],\n",
      "      dtype='object')\n",
      "Integer columns : Index(['age', 'fnlwgt', 'education_num', 'capital_gain', 'capital_loss',\n",
      "       'hours_per_week'],\n",
      "      dtype='object')\n"
     ]
    }
   ],
   "source": [
    "cat_columns = data_df.select_dtypes(include=['object']).columns\n",
    "num_columns = data_df.select_dtypes(exclude=['object']).columns\n",
    "\n",
    "print(f\"Categorical columns : {cat_columns}\")\n",
    "print(f\"Integer columns : {num_columns}\")"
   ]
  },
  {
   "cell_type": "code",
   "execution_count": 7,
   "id": "6138b917-8fd3-42b7-863a-57b4e282aff9",
   "metadata": {},
   "outputs": [
    {
     "name": "stdout",
     "output_type": "stream",
     "text": [
      "\n",
      "No of unique values in column 'WORKCLASS' : 9 and their values :\n",
      "######################################################################################################################## \n",
      " ['State-gov' 'Self-emp-not-inc' 'Private' 'Federal-gov' 'Local-gov' '?'\n",
      " 'Self-emp-inc' 'Without-pay' 'Never-worked']\n",
      "\n",
      "No of unique values in column 'EDUCATION' : 16 and their values :\n",
      "######################################################################################################################## \n",
      " ['Bachelors' 'HS-grad' '11th' 'Masters' '9th' 'Some-college' 'Assoc-acdm'\n",
      " 'Assoc-voc' '7th-8th' 'Doctorate' 'Prof-school' '5th-6th' '10th'\n",
      " '1st-4th' 'Preschool' '12th']\n",
      "\n",
      "No of unique values in column 'MARITAL_STATUS' : 7 and their values :\n",
      "######################################################################################################################## \n",
      " ['Never-married' 'Married-civ-spouse' 'Divorced' 'Married-spouse-absent'\n",
      " 'Separated' 'Married-AF-spouse' 'Widowed']\n",
      "\n",
      "No of unique values in column 'OCCUPATION' : 15 and their values :\n",
      "######################################################################################################################## \n",
      " ['Adm-clerical' 'Exec-managerial' 'Handlers-cleaners' 'Prof-specialty'\n",
      " 'Other-service' 'Sales' 'Craft-repair' 'Transport-moving'\n",
      " 'Farming-fishing' 'Machine-op-inspct' 'Tech-support' '?'\n",
      " 'Protective-serv' 'Armed-Forces' 'Priv-house-serv']\n",
      "\n",
      "No of unique values in column 'RELATIONSHIP' : 6 and their values :\n",
      "######################################################################################################################## \n",
      " ['Not-in-family' 'Husband' 'Wife' 'Own-child' 'Unmarried' 'Other-relative']\n",
      "\n",
      "No of unique values in column 'RACE' : 5 and their values :\n",
      "######################################################################################################################## \n",
      " ['White' 'Black' 'Asian-Pac-Islander' 'Amer-Indian-Eskimo' 'Other']\n",
      "\n",
      "No of unique values in column 'SEX' : 2 and their values :\n",
      "######################################################################################################################## \n",
      " ['Male' 'Female']\n",
      "\n",
      "No of unique values in column 'NATIVE_COUNTRY' : 42 and their values :\n",
      "######################################################################################################################## \n",
      " ['United-States' 'Cuba' 'Jamaica' 'India' '?' 'Mexico' 'South'\n",
      " 'Puerto-Rico' 'Honduras' 'England' 'Canada' 'Germany' 'Iran'\n",
      " 'Philippines' 'Italy' 'Poland' 'Columbia' 'Cambodia' 'Thailand' 'Ecuador'\n",
      " 'Laos' 'Taiwan' 'Haiti' 'Portugal' 'Dominican-Republic' 'El-Salvador'\n",
      " 'France' 'Guatemala' 'China' 'Japan' 'Yugoslavia' 'Peru'\n",
      " 'Outlying-US(Guam-USVI-etc)' 'Scotland' 'Trinadad&Tobago' 'Greece'\n",
      " 'Nicaragua' 'Vietnam' 'Hong' 'Ireland' 'Hungary' 'Holand-Netherlands']\n",
      "\n",
      "No of unique values in column 'INCOME' : 2 and their values :\n",
      "######################################################################################################################## \n",
      " ['<=50K' '>50K']\n"
     ]
    }
   ],
   "source": [
    "for col in cat_columns:\n",
    "    print(f\"\\nNo of unique values in column \\'{col.upper()}\\' : {data_df[col].nunique()} and their values :\\n{'####'*30} \\n {data_df[col].unique()}\")"
   ]
  },
  {
   "cell_type": "markdown",
   "id": "f6a86f40-9244-4c21-a074-7d46a69feb04",
   "metadata": {},
   "source": [
    "## From the above output, columns 'WORKCLASS', 'OCCUPATION' and 'NATIVE_COUNTRY' Looking for Null values in the dataset"
   ]
  },
  {
   "cell_type": "code",
   "execution_count": 8,
   "id": "859caac3-5e11-4cb8-b59a-2ba9ed062fa0",
   "metadata": {},
   "outputs": [
    {
     "data": {
      "text/plain": [
       "age               0\n",
       "workclass         0\n",
       "fnlwgt            0\n",
       "education         0\n",
       "education_num     0\n",
       "marital_status    0\n",
       "occupation        0\n",
       "relationship      0\n",
       "race              0\n",
       "sex               0\n",
       "capital_gain      0\n",
       "capital_loss      0\n",
       "hours_per_week    0\n",
       "native_country    0\n",
       "income            0\n",
       "dtype: int64"
      ]
     },
     "execution_count": 8,
     "metadata": {},
     "output_type": "execute_result"
    }
   ],
   "source": [
    "data_df.isnull().sum()"
   ]
  },
  {
   "cell_type": "code",
   "execution_count": 9,
   "id": "6dd347d2-33b7-4ec3-a2bb-985637da17d8",
   "metadata": {},
   "outputs": [
    {
     "name": "stdout",
     "output_type": "stream",
     "text": [
      "workclass --  object True\n",
      "education --  object True\n",
      "marital_status --  object True\n",
      "occupation --  object True\n",
      "relationship --  object True\n",
      "race --  object True\n",
      "sex --  object True\n",
      "native_country --  object True\n",
      "income --  object True\n",
      "\n",
      "\n",
      " Index(['workclass', 'education', 'marital_status', 'occupation',\n",
      "       'relationship', 'race', 'sex', 'native_country', 'income'],\n",
      "      dtype='object')\n"
     ]
    }
   ],
   "source": [
    "for col in data_df.columns:\n",
    "    if data_df[col].dtype=='O':\n",
    "        print(f'{col} -- ', data_df[col].dtype, data_df[col].dtype=='O') \n",
    "    \n",
    "print(\"\\n\\n\", data_df.select_dtypes(include=['object']).columns)"
   ]
  },
  {
   "cell_type": "code",
   "execution_count": 10,
   "id": "7c4508b1-d5b1-447c-b58b-6bb2d2d77849",
   "metadata": {},
   "outputs": [
    {
     "data": {
      "text/plain": [
       "32561"
      ]
     },
     "execution_count": 10,
     "metadata": {},
     "output_type": "execute_result"
    }
   ],
   "source": [
    "no_rows, no_cols = data_df.shape\n",
    "no_rows"
   ]
  },
  {
   "cell_type": "markdown",
   "id": "2a1b25ad-f7e7-457c-98f6-56794ed98e59",
   "metadata": {},
   "source": [
    "### Finding count of unknown/null values in columns represented as '?'"
   ]
  },
  {
   "cell_type": "code",
   "execution_count": 11,
   "id": "4a7fdf18-ac76-43b0-9307-9c634edff056",
   "metadata": {},
   "outputs": [
    {
     "name": "stdout",
     "output_type": "stream",
     "text": [
      "Count of values with cell value as '?' for column WORKCLASS : 1836 i.e 5.638647461687294 percentage of total values\n",
      "Count of values with cell value as '?' for column OCCUPATION : 1843 i.e 5.660145572924664 percentage of total values\n",
      "Count of values with cell value as '?' for column NATIVE_COUNTRY : 583 i.e 1.7904855501980899 percentage of total values\n"
     ]
    }
   ],
   "source": [
    "cols_with_qm = ['workclass', 'occupation', 'native_country']\n",
    "\n",
    "for col in cols_with_qm:\n",
    "    print(f\"Count of values with cell value as '?' for column {col.upper()} : {(data_df.loc[:, col]=='?').sum()} i.e {((data_df.loc[:, col]=='?').sum()/no_rows)*100} percentage of total values\")\n"
   ]
  },
  {
   "cell_type": "markdown",
   "id": "953e0710-bb8f-49da-ac03-c36bf08de0a0",
   "metadata": {},
   "source": [
    "## Now replacing these  question marks with np.Nan values"
   ]
  },
  {
   "cell_type": "code",
   "execution_count": 12,
   "id": "6ca66483-30d0-479e-af99-54fc9d50bdef",
   "metadata": {},
   "outputs": [
    {
     "data": {
      "text/plain": [
       "workclass         1836\n",
       "occupation        1843\n",
       "native_country     583\n",
       "dtype: int64"
      ]
     },
     "execution_count": 12,
     "metadata": {},
     "output_type": "execute_result"
    }
   ],
   "source": [
    "for col in cols_with_qm:\n",
    "    data_df[col].replace('?', np.NaN, inplace=True)\n",
    "\n",
    "data_df[cols_with_qm].isnull().sum()"
   ]
  },
  {
   "cell_type": "markdown",
   "id": "91ae95e9-c282-4c5d-9b78-597a2db7a947",
   "metadata": {},
   "source": [
    "## Filling missing values using Imputation techniques"
   ]
  },
  {
   "cell_type": "code",
   "execution_count": 13,
   "id": "d9808df4-05c0-4098-9bcd-0ec68f99c46d",
   "metadata": {},
   "outputs": [
    {
     "data": {
      "text/plain": [
       "age                  0\n",
       "workclass         1836\n",
       "fnlwgt               0\n",
       "education            0\n",
       "education_num        0\n",
       "marital_status       0\n",
       "occupation        1843\n",
       "relationship         0\n",
       "race                 0\n",
       "sex                  0\n",
       "capital_gain         0\n",
       "capital_loss         0\n",
       "hours_per_week       0\n",
       "native_country     583\n",
       "income               0\n",
       "dtype: int64"
      ]
     },
     "execution_count": 13,
     "metadata": {},
     "output_type": "execute_result"
    }
   ],
   "source": [
    "data_df.isnull().sum()"
   ]
  },
  {
   "cell_type": "markdown",
   "id": "334e1133-1d71-4e20-9f6e-78d8dbd57595",
   "metadata": {},
   "source": [
    "## Encoding labels"
   ]
  },
  {
   "cell_type": "code",
   "execution_count": 14,
   "id": "703d4c1a-5614-4fd8-bf3f-fbca828c4a7f",
   "metadata": {},
   "outputs": [
    {
     "data": {
      "text/plain": [
       "array([0, 1])"
      ]
     },
     "execution_count": 14,
     "metadata": {},
     "output_type": "execute_result"
    }
   ],
   "source": [
    "from sklearn import preprocessing\n",
    "label_encoder = preprocessing.LabelEncoder()\n",
    "data_df['income']= label_encoder.fit_transform(data_df['income'])\n",
    "data_df['income'].unique()"
   ]
  },
  {
   "cell_type": "code",
   "execution_count": 15,
   "id": "75ec529e-1162-42bb-ab32-657d86f357ef",
   "metadata": {},
   "outputs": [
    {
     "data": {
      "text/plain": [
       "0    24720\n",
       "1     7841\n",
       "Name: income, dtype: int64"
      ]
     },
     "execution_count": 15,
     "metadata": {},
     "output_type": "execute_result"
    }
   ],
   "source": [
    "data_df['income'].value_counts()"
   ]
  },
  {
   "cell_type": "code",
   "execution_count": 16,
   "id": "06d3a8ac-acc4-4ddb-8316-3de833ddef95",
   "metadata": {},
   "outputs": [
    {
     "data": {
      "text/html": [
       "<div>\n",
       "<style scoped>\n",
       "    .dataframe tbody tr th:only-of-type {\n",
       "        vertical-align: middle;\n",
       "    }\n",
       "\n",
       "    .dataframe tbody tr th {\n",
       "        vertical-align: top;\n",
       "    }\n",
       "\n",
       "    .dataframe thead th {\n",
       "        text-align: right;\n",
       "    }\n",
       "</style>\n",
       "<table border=\"1\" class=\"dataframe\">\n",
       "  <thead>\n",
       "    <tr style=\"text-align: right;\">\n",
       "      <th></th>\n",
       "      <th>age</th>\n",
       "      <th>workclass</th>\n",
       "      <th>fnlwgt</th>\n",
       "      <th>education</th>\n",
       "      <th>education_num</th>\n",
       "      <th>marital_status</th>\n",
       "      <th>occupation</th>\n",
       "      <th>relationship</th>\n",
       "      <th>race</th>\n",
       "      <th>sex</th>\n",
       "      <th>capital_gain</th>\n",
       "      <th>capital_loss</th>\n",
       "      <th>hours_per_week</th>\n",
       "      <th>native_country</th>\n",
       "    </tr>\n",
       "  </thead>\n",
       "  <tbody>\n",
       "    <tr>\n",
       "      <th>0</th>\n",
       "      <td>39</td>\n",
       "      <td>State-gov</td>\n",
       "      <td>77516</td>\n",
       "      <td>Bachelors</td>\n",
       "      <td>13</td>\n",
       "      <td>Never-married</td>\n",
       "      <td>Adm-clerical</td>\n",
       "      <td>Not-in-family</td>\n",
       "      <td>White</td>\n",
       "      <td>Male</td>\n",
       "      <td>2174</td>\n",
       "      <td>0</td>\n",
       "      <td>40</td>\n",
       "      <td>United-States</td>\n",
       "    </tr>\n",
       "    <tr>\n",
       "      <th>1</th>\n",
       "      <td>50</td>\n",
       "      <td>Self-emp-not-inc</td>\n",
       "      <td>83311</td>\n",
       "      <td>Bachelors</td>\n",
       "      <td>13</td>\n",
       "      <td>Married-civ-spouse</td>\n",
       "      <td>Exec-managerial</td>\n",
       "      <td>Husband</td>\n",
       "      <td>White</td>\n",
       "      <td>Male</td>\n",
       "      <td>0</td>\n",
       "      <td>0</td>\n",
       "      <td>13</td>\n",
       "      <td>United-States</td>\n",
       "    </tr>\n",
       "  </tbody>\n",
       "</table>\n",
       "</div>"
      ],
      "text/plain": [
       "   age         workclass  fnlwgt  education  education_num  \\\n",
       "0   39         State-gov   77516  Bachelors             13   \n",
       "1   50  Self-emp-not-inc   83311  Bachelors             13   \n",
       "\n",
       "       marital_status       occupation   relationship   race   sex  \\\n",
       "0       Never-married     Adm-clerical  Not-in-family  White  Male   \n",
       "1  Married-civ-spouse  Exec-managerial        Husband  White  Male   \n",
       "\n",
       "   capital_gain  capital_loss  hours_per_week native_country  \n",
       "0          2174             0              40  United-States  \n",
       "1             0             0              13  United-States  "
      ]
     },
     "execution_count": 16,
     "metadata": {},
     "output_type": "execute_result"
    }
   ],
   "source": [
    "labels = data_df['income']\n",
    "data_df.drop(['income'], inplace=True, axis=1)\n",
    "data_df.head(2)"
   ]
  },
  {
   "cell_type": "markdown",
   "id": "9c1a9d62-1e93-4d23-b6c1-1124fd7334a5",
   "metadata": {
    "tags": []
   },
   "source": [
    "## Train Test Split data"
   ]
  },
  {
   "cell_type": "code",
   "execution_count": 17,
   "id": "98ebba8f-678e-4391-adbd-4d1df6fa788f",
   "metadata": {},
   "outputs": [],
   "source": [
    "from sklearn.model_selection import train_test_split\n",
    "\n",
    "train_x, test_x, train_y, test_y = train_test_split(data_df, labels, test_size=0.2, random_state=567, stratify=labels)"
   ]
  },
  {
   "cell_type": "code",
   "execution_count": 18,
   "id": "9b098f4a-d0b6-4aa7-a374-bf5ce34222b5",
   "metadata": {},
   "outputs": [
    {
     "data": {
      "text/plain": [
       "(26048, 14)"
      ]
     },
     "execution_count": 18,
     "metadata": {},
     "output_type": "execute_result"
    }
   ],
   "source": [
    "train_x.shape"
   ]
  },
  {
   "cell_type": "code",
   "execution_count": 19,
   "id": "bc34d425-876d-41df-b789-8ebc875b603c",
   "metadata": {},
   "outputs": [
    {
     "name": "stdout",
     "output_type": "stream",
     "text": [
      "Index(['workclass', 'education', 'marital_status', 'occupation',\n",
      "       'relationship', 'race', 'sex', 'native_country'],\n",
      "      dtype='object')\n",
      "Index(['age', 'fnlwgt', 'education_num', 'capital_gain', 'capital_loss',\n",
      "       'hours_per_week'],\n",
      "      dtype='object')\n"
     ]
    }
   ],
   "source": [
    "cat_cols = train_x.select_dtypes(include=['object']).columns\n",
    "int_cols = train_x.select_dtypes(exclude=['object']).columns\n",
    "\n",
    "print(cat_cols)\n",
    "print(int_cols)"
   ]
  },
  {
   "cell_type": "markdown",
   "id": "5e417543-6b4a-4e7e-b6f9-0ee877522656",
   "metadata": {},
   "source": [
    "## Imputation techniques"
   ]
  },
  {
   "cell_type": "markdown",
   "id": "c8f22ef0-c508-4f01-abf3-2bb07cc5cee7",
   "metadata": {},
   "source": [
    "### MICE (Multi-Variate Imputation by Chained Equations) method"
   ]
  },
  {
   "cell_type": "code",
   "execution_count": 20,
   "id": "18dfd89f-6f01-4bb0-8d18-87632c0a36fb",
   "metadata": {},
   "outputs": [
    {
     "data": {
      "text/html": [
       "<div>\n",
       "<style scoped>\n",
       "    .dataframe tbody tr th:only-of-type {\n",
       "        vertical-align: middle;\n",
       "    }\n",
       "\n",
       "    .dataframe tbody tr th {\n",
       "        vertical-align: top;\n",
       "    }\n",
       "\n",
       "    .dataframe thead th {\n",
       "        text-align: right;\n",
       "    }\n",
       "</style>\n",
       "<table border=\"1\" class=\"dataframe\">\n",
       "  <thead>\n",
       "    <tr style=\"text-align: right;\">\n",
       "      <th></th>\n",
       "      <th>age</th>\n",
       "      <th>fnlwgt</th>\n",
       "      <th>education_num</th>\n",
       "      <th>capital_gain</th>\n",
       "      <th>capital_loss</th>\n",
       "      <th>hours_per_week</th>\n",
       "    </tr>\n",
       "  </thead>\n",
       "  <tbody>\n",
       "    <tr>\n",
       "      <th>23429</th>\n",
       "      <td>36</td>\n",
       "      <td>215392</td>\n",
       "      <td>11</td>\n",
       "      <td>0</td>\n",
       "      <td>0</td>\n",
       "      <td>40</td>\n",
       "    </tr>\n",
       "    <tr>\n",
       "      <th>26543</th>\n",
       "      <td>41</td>\n",
       "      <td>193882</td>\n",
       "      <td>13</td>\n",
       "      <td>0</td>\n",
       "      <td>0</td>\n",
       "      <td>40</td>\n",
       "    </tr>\n",
       "    <tr>\n",
       "      <th>14032</th>\n",
       "      <td>48</td>\n",
       "      <td>155372</td>\n",
       "      <td>9</td>\n",
       "      <td>0</td>\n",
       "      <td>0</td>\n",
       "      <td>36</td>\n",
       "    </tr>\n",
       "    <tr>\n",
       "      <th>13229</th>\n",
       "      <td>53</td>\n",
       "      <td>83434</td>\n",
       "      <td>13</td>\n",
       "      <td>0</td>\n",
       "      <td>0</td>\n",
       "      <td>21</td>\n",
       "    </tr>\n",
       "    <tr>\n",
       "      <th>4897</th>\n",
       "      <td>36</td>\n",
       "      <td>398931</td>\n",
       "      <td>13</td>\n",
       "      <td>0</td>\n",
       "      <td>1485</td>\n",
       "      <td>50</td>\n",
       "    </tr>\n",
       "  </tbody>\n",
       "</table>\n",
       "</div>"
      ],
      "text/plain": [
       "       age  fnlwgt  education_num  capital_gain  capital_loss  hours_per_week\n",
       "23429   36  215392             11             0             0              40\n",
       "26543   41  193882             13             0             0              40\n",
       "14032   48  155372              9             0             0              36\n",
       "13229   53   83434             13             0             0              21\n",
       "4897    36  398931             13             0          1485              50"
      ]
     },
     "execution_count": 20,
     "metadata": {},
     "output_type": "execute_result"
    }
   ],
   "source": [
    "train_x[int_cols].head()"
   ]
  },
  {
   "cell_type": "code",
   "execution_count": 21,
   "id": "846dfc46-0863-43b7-9fe5-dab0431d4e01",
   "metadata": {},
   "outputs": [],
   "source": [
    "from impyute.imputation.cs import mice"
   ]
  },
  {
   "cell_type": "code",
   "execution_count": 22,
   "id": "65a30c17-5326-4ac4-a061-7b9782097c36",
   "metadata": {},
   "outputs": [
    {
     "name": "stderr",
     "output_type": "stream",
     "text": [
      "C:\\Users\\johny\\AppData\\Roaming\\Python\\Python38\\site-packages\\pandas\\core\\frame.py:2963: SettingWithCopyWarning: \n",
      "A value is trying to be set on a copy of a slice from a DataFrame.\n",
      "Try using .loc[row_indexer,col_indexer] = value instead\n",
      "\n",
      "See the caveats in the documentation: https://pandas.pydata.org/pandas-docs/stable/user_guide/indexing.html#returning-a-view-versus-a-copy\n",
      "  self[k1] = value[k2]\n"
     ]
    }
   ],
   "source": [
    "train_x[int_cols] = train_x.loc[:, int_cols].astype('float64')"
   ]
  },
  {
   "cell_type": "code",
   "execution_count": 23,
   "id": "d604bd64-2544-493d-bd92-b6e6d7f39af1",
   "metadata": {},
   "outputs": [
    {
     "data": {
      "text/plain": [
       "age               0\n",
       "fnlwgt            0\n",
       "education_num     0\n",
       "capital_gain      0\n",
       "capital_loss      0\n",
       "hours_per_week    0\n",
       "dtype: int64"
      ]
     },
     "execution_count": 23,
     "metadata": {},
     "output_type": "execute_result"
    }
   ],
   "source": [
    "train_x[int_cols].isnull().sum()"
   ]
  },
  {
   "cell_type": "code",
   "execution_count": 24,
   "id": "0256cdaf-e84d-48ba-8f3d-09abba026439",
   "metadata": {},
   "outputs": [],
   "source": [
    "## Since from the above output there are no null values in the numerical columns, we ignore this step\n",
    "\n",
    "# train_x_int_mice_imputed = mice(train_x[int_cols].values)"
   ]
  },
  {
   "cell_type": "markdown",
   "id": "de530f68-5f9c-474e-9cf0-3ffe129a16da",
   "metadata": {},
   "source": [
    "### Using Simple Imputer for categorical columns with null values"
   ]
  },
  {
   "cell_type": "code",
   "execution_count": 25,
   "id": "82d7dda7-ca1e-49d8-8637-890ab8404635",
   "metadata": {},
   "outputs": [],
   "source": [
    "from sklearn.impute import SimpleImputer\n",
    "\n",
    "simp_imp = SimpleImputer(strategy='constant', fill_value='missing')\n",
    "train_x = pd.DataFrame(data=simp_imp.fit_transform(train_x), columns=train_x.columns)\n"
   ]
  },
  {
   "cell_type": "code",
   "execution_count": 26,
   "id": "06f5db99-810d-4145-a4c2-c1ef3a435786",
   "metadata": {},
   "outputs": [],
   "source": [
    "test_x = pd.DataFrame(data=simp_imp.fit_transform(test_x), columns=test_x.columns)"
   ]
  },
  {
   "cell_type": "code",
   "execution_count": 27,
   "id": "68d397ae-ef72-4bfa-abed-1c66b0717942",
   "metadata": {},
   "outputs": [
    {
     "data": {
      "text/plain": [
       "Private             18168\n",
       "Self-emp-not-inc     2027\n",
       "Local-gov            1686\n",
       "missing              1450\n",
       "State-gov            1033\n",
       "Self-emp-inc          898\n",
       "Federal-gov           768\n",
       "Without-pay            12\n",
       "Never-worked            6\n",
       "Name: workclass, dtype: int64"
      ]
     },
     "execution_count": 27,
     "metadata": {},
     "output_type": "execute_result"
    }
   ],
   "source": [
    "train_x.workclass.value_counts()"
   ]
  },
  {
   "cell_type": "markdown",
   "id": "234546ac-ae82-4497-ad24-63376ee4a23d",
   "metadata": {
    "tags": []
   },
   "source": [
    "### KNN Method"
   ]
  },
  {
   "cell_type": "code",
   "execution_count": 28,
   "id": "4bc25623-2ed8-492a-9884-3c1e0cc30636",
   "metadata": {
    "tags": []
   },
   "outputs": [],
   "source": [
    "# from fancyimpute import KNN\n",
    "\n",
    "# imputer = KNN()\n",
    "# train_x_imputed = pd.DataFrame(np.round(imputer.fit_transform(train_x)),columns = train_x.columns)\n",
    "# train_x_imputed.head()"
   ]
  },
  {
   "cell_type": "markdown",
   "id": "7a6b10f2-ae7f-45fc-adaf-850b50c6ec2f",
   "metadata": {},
   "source": [
    "### SKlearn KNN Impute method"
   ]
  },
  {
   "cell_type": "code",
   "execution_count": 29,
   "id": "8349dcac-65de-435c-8642-941d9b361f6b",
   "metadata": {},
   "outputs": [],
   "source": [
    "# from sklearn.impute import KNNImputer\n",
    "# from sklearn.preprocessing import LabelEncoder\n",
    "                                     \n",
    "# knn = KNNImputer(n_neighbors=10, add_indicator=True)\n",
    "# # knn = KNNImputer(missing_values=np.nan, n_neighbors=5, weights='uniform', metric='nan_euclidean')\n",
    "\n",
    "# knn.fit(train_x)\n",
    "# train_x[cat_cols] = pd.DataFrame(data=knn.fit_transform(train_x[cat_cols]), columns=train_x.columns)\n",
    "\n",
    "# train_x.head()"
   ]
  },
  {
   "cell_type": "code",
   "execution_count": 30,
   "id": "27f2565f-6d7d-4b96-ab6c-1db9bf6873e5",
   "metadata": {},
   "outputs": [],
   "source": [
    "# from sklearn.impute import SimpleImputer\n",
    "# strategies = ['mean', 'median', 'most_frequent', 'constant']\n",
    "\n",
    "# sim_imp = SimpleImputer(strategy='most_frequent')\n",
    "\n",
    "# for col in cols_with_qm:\n",
    "#     data_df[col]=sim_imp.fit_transform(data_df[col].values.reshape(-1,1))[:, 0]\n",
    "\n",
    "# data_df[cols_with_qm].head()"
   ]
  },
  {
   "cell_type": "code",
   "execution_count": 31,
   "id": "bb502c84-0eb8-4391-a3de-df3e7c667d58",
   "metadata": {},
   "outputs": [
    {
     "data": {
      "text/plain": [
       "age               0\n",
       "workclass         0\n",
       "fnlwgt            0\n",
       "education         0\n",
       "education_num     0\n",
       "marital_status    0\n",
       "occupation        0\n",
       "relationship      0\n",
       "race              0\n",
       "sex               0\n",
       "capital_gain      0\n",
       "capital_loss      0\n",
       "hours_per_week    0\n",
       "native_country    0\n",
       "dtype: int64"
      ]
     },
     "execution_count": 31,
     "metadata": {},
     "output_type": "execute_result"
    }
   ],
   "source": [
    "train_x.isnull().sum()"
   ]
  },
  {
   "cell_type": "markdown",
   "id": "75147854-eb68-414d-a45e-52c812f78560",
   "metadata": {},
   "source": [
    "## Encoding Categorical data"
   ]
  },
  {
   "cell_type": "code",
   "execution_count": 32,
   "id": "d2f958dd-92a6-4881-aad5-00f9f330961a",
   "metadata": {},
   "outputs": [],
   "source": [
    "import category_encoders as ce"
   ]
  },
  {
   "cell_type": "code",
   "execution_count": 33,
   "id": "322ffbcd-c6d1-426f-bc6d-dce34a0fa10c",
   "metadata": {},
   "outputs": [],
   "source": [
    "cat_enc = ce.OneHotEncoder(cols=cat_cols, return_df=True)\n",
    "\n",
    "train_x = cat_enc.fit_transform(train_x)\n",
    "test_x = cat_enc.transform(test_x)"
   ]
  },
  {
   "cell_type": "code",
   "execution_count": 34,
   "id": "18ccc211-bcab-45ae-b94d-9bc9a0767aa2",
   "metadata": {},
   "outputs": [
    {
     "data": {
      "text/html": [
       "<div>\n",
       "<style scoped>\n",
       "    .dataframe tbody tr th:only-of-type {\n",
       "        vertical-align: middle;\n",
       "    }\n",
       "\n",
       "    .dataframe tbody tr th {\n",
       "        vertical-align: top;\n",
       "    }\n",
       "\n",
       "    .dataframe thead th {\n",
       "        text-align: right;\n",
       "    }\n",
       "</style>\n",
       "<table border=\"1\" class=\"dataframe\">\n",
       "  <thead>\n",
       "    <tr style=\"text-align: right;\">\n",
       "      <th></th>\n",
       "      <th>age</th>\n",
       "      <th>workclass_1</th>\n",
       "      <th>workclass_2</th>\n",
       "      <th>workclass_3</th>\n",
       "      <th>workclass_4</th>\n",
       "      <th>workclass_5</th>\n",
       "      <th>workclass_6</th>\n",
       "      <th>workclass_7</th>\n",
       "      <th>workclass_8</th>\n",
       "      <th>workclass_9</th>\n",
       "      <th>...</th>\n",
       "      <th>native_country_33</th>\n",
       "      <th>native_country_34</th>\n",
       "      <th>native_country_35</th>\n",
       "      <th>native_country_36</th>\n",
       "      <th>native_country_37</th>\n",
       "      <th>native_country_38</th>\n",
       "      <th>native_country_39</th>\n",
       "      <th>native_country_40</th>\n",
       "      <th>native_country_41</th>\n",
       "      <th>native_country_42</th>\n",
       "    </tr>\n",
       "  </thead>\n",
       "  <tbody>\n",
       "    <tr>\n",
       "      <th>0</th>\n",
       "      <td>36</td>\n",
       "      <td>1</td>\n",
       "      <td>0</td>\n",
       "      <td>0</td>\n",
       "      <td>0</td>\n",
       "      <td>0</td>\n",
       "      <td>0</td>\n",
       "      <td>0</td>\n",
       "      <td>0</td>\n",
       "      <td>0</td>\n",
       "      <td>...</td>\n",
       "      <td>0</td>\n",
       "      <td>0</td>\n",
       "      <td>0</td>\n",
       "      <td>0</td>\n",
       "      <td>0</td>\n",
       "      <td>0</td>\n",
       "      <td>0</td>\n",
       "      <td>0</td>\n",
       "      <td>0</td>\n",
       "      <td>0</td>\n",
       "    </tr>\n",
       "    <tr>\n",
       "      <th>1</th>\n",
       "      <td>41</td>\n",
       "      <td>1</td>\n",
       "      <td>0</td>\n",
       "      <td>0</td>\n",
       "      <td>0</td>\n",
       "      <td>0</td>\n",
       "      <td>0</td>\n",
       "      <td>0</td>\n",
       "      <td>0</td>\n",
       "      <td>0</td>\n",
       "      <td>...</td>\n",
       "      <td>0</td>\n",
       "      <td>0</td>\n",
       "      <td>0</td>\n",
       "      <td>0</td>\n",
       "      <td>0</td>\n",
       "      <td>0</td>\n",
       "      <td>0</td>\n",
       "      <td>0</td>\n",
       "      <td>0</td>\n",
       "      <td>0</td>\n",
       "    </tr>\n",
       "    <tr>\n",
       "      <th>2</th>\n",
       "      <td>48</td>\n",
       "      <td>1</td>\n",
       "      <td>0</td>\n",
       "      <td>0</td>\n",
       "      <td>0</td>\n",
       "      <td>0</td>\n",
       "      <td>0</td>\n",
       "      <td>0</td>\n",
       "      <td>0</td>\n",
       "      <td>0</td>\n",
       "      <td>...</td>\n",
       "      <td>0</td>\n",
       "      <td>0</td>\n",
       "      <td>0</td>\n",
       "      <td>0</td>\n",
       "      <td>0</td>\n",
       "      <td>0</td>\n",
       "      <td>0</td>\n",
       "      <td>0</td>\n",
       "      <td>0</td>\n",
       "      <td>0</td>\n",
       "    </tr>\n",
       "    <tr>\n",
       "      <th>3</th>\n",
       "      <td>53</td>\n",
       "      <td>1</td>\n",
       "      <td>0</td>\n",
       "      <td>0</td>\n",
       "      <td>0</td>\n",
       "      <td>0</td>\n",
       "      <td>0</td>\n",
       "      <td>0</td>\n",
       "      <td>0</td>\n",
       "      <td>0</td>\n",
       "      <td>...</td>\n",
       "      <td>0</td>\n",
       "      <td>0</td>\n",
       "      <td>0</td>\n",
       "      <td>0</td>\n",
       "      <td>0</td>\n",
       "      <td>0</td>\n",
       "      <td>0</td>\n",
       "      <td>0</td>\n",
       "      <td>0</td>\n",
       "      <td>0</td>\n",
       "    </tr>\n",
       "    <tr>\n",
       "      <th>4</th>\n",
       "      <td>36</td>\n",
       "      <td>1</td>\n",
       "      <td>0</td>\n",
       "      <td>0</td>\n",
       "      <td>0</td>\n",
       "      <td>0</td>\n",
       "      <td>0</td>\n",
       "      <td>0</td>\n",
       "      <td>0</td>\n",
       "      <td>0</td>\n",
       "      <td>...</td>\n",
       "      <td>0</td>\n",
       "      <td>0</td>\n",
       "      <td>0</td>\n",
       "      <td>0</td>\n",
       "      <td>0</td>\n",
       "      <td>0</td>\n",
       "      <td>0</td>\n",
       "      <td>0</td>\n",
       "      <td>0</td>\n",
       "      <td>0</td>\n",
       "    </tr>\n",
       "  </tbody>\n",
       "</table>\n",
       "<p>5 rows × 108 columns</p>\n",
       "</div>"
      ],
      "text/plain": [
       "  age  workclass_1  workclass_2  workclass_3  workclass_4  workclass_5  \\\n",
       "0  36            1            0            0            0            0   \n",
       "1  41            1            0            0            0            0   \n",
       "2  48            1            0            0            0            0   \n",
       "3  53            1            0            0            0            0   \n",
       "4  36            1            0            0            0            0   \n",
       "\n",
       "   workclass_6  workclass_7  workclass_8  workclass_9  ... native_country_33  \\\n",
       "0            0            0            0            0  ...                 0   \n",
       "1            0            0            0            0  ...                 0   \n",
       "2            0            0            0            0  ...                 0   \n",
       "3            0            0            0            0  ...                 0   \n",
       "4            0            0            0            0  ...                 0   \n",
       "\n",
       "   native_country_34  native_country_35  native_country_36  native_country_37  \\\n",
       "0                  0                  0                  0                  0   \n",
       "1                  0                  0                  0                  0   \n",
       "2                  0                  0                  0                  0   \n",
       "3                  0                  0                  0                  0   \n",
       "4                  0                  0                  0                  0   \n",
       "\n",
       "   native_country_38  native_country_39  native_country_40  native_country_41  \\\n",
       "0                  0                  0                  0                  0   \n",
       "1                  0                  0                  0                  0   \n",
       "2                  0                  0                  0                  0   \n",
       "3                  0                  0                  0                  0   \n",
       "4                  0                  0                  0                  0   \n",
       "\n",
       "   native_country_42  \n",
       "0                  0  \n",
       "1                  0  \n",
       "2                  0  \n",
       "3                  0  \n",
       "4                  0  \n",
       "\n",
       "[5 rows x 108 columns]"
      ]
     },
     "execution_count": 34,
     "metadata": {},
     "output_type": "execute_result"
    }
   ],
   "source": [
    "train_x.head(5)"
   ]
  },
  {
   "cell_type": "markdown",
   "id": "51367828-3180-44ba-92d7-b01bf6dc35c3",
   "metadata": {},
   "source": [
    "## Scaling Features"
   ]
  },
  {
   "cell_type": "code",
   "execution_count": 35,
   "id": "4f96f98e-5a94-4f6e-b023-d346f770c106",
   "metadata": {},
   "outputs": [],
   "source": [
    "from sklearn.preprocessing import RobustScaler, StandardScaler, MinMaxScaler\n",
    "\n",
    "columns = train_x.columns\n",
    "\n",
    "# scaler = RobustScaler()\n",
    "# train_x  = pd.DataFrame( scaler.fit_transform(train_x), columns=train_x.columns)\n",
    "# test_x = pd.DataFrame( scaler.transform(test_x), columns=test_x.columns)\n",
    "\n",
    "scaler = MinMaxScaler()\n",
    "train_x  = scaler.fit_transform(train_x)\n",
    "test_x = scaler.transform(test_x)"
   ]
  },
  {
   "cell_type": "code",
   "execution_count": 36,
   "id": "c63d8dd3-aba4-4891-a793-e38b18d1e8ae",
   "metadata": {},
   "outputs": [
    {
     "data": {
      "text/html": [
       "<div>\n",
       "<style scoped>\n",
       "    .dataframe tbody tr th:only-of-type {\n",
       "        vertical-align: middle;\n",
       "    }\n",
       "\n",
       "    .dataframe tbody tr th {\n",
       "        vertical-align: top;\n",
       "    }\n",
       "\n",
       "    .dataframe thead th {\n",
       "        text-align: right;\n",
       "    }\n",
       "</style>\n",
       "<table border=\"1\" class=\"dataframe\">\n",
       "  <thead>\n",
       "    <tr style=\"text-align: right;\">\n",
       "      <th></th>\n",
       "      <th>age</th>\n",
       "      <th>workclass_1</th>\n",
       "      <th>workclass_2</th>\n",
       "      <th>workclass_3</th>\n",
       "      <th>workclass_4</th>\n",
       "      <th>workclass_5</th>\n",
       "      <th>workclass_6</th>\n",
       "      <th>workclass_7</th>\n",
       "      <th>workclass_8</th>\n",
       "      <th>workclass_9</th>\n",
       "      <th>...</th>\n",
       "      <th>native_country_33</th>\n",
       "      <th>native_country_34</th>\n",
       "      <th>native_country_35</th>\n",
       "      <th>native_country_36</th>\n",
       "      <th>native_country_37</th>\n",
       "      <th>native_country_38</th>\n",
       "      <th>native_country_39</th>\n",
       "      <th>native_country_40</th>\n",
       "      <th>native_country_41</th>\n",
       "      <th>native_country_42</th>\n",
       "    </tr>\n",
       "  </thead>\n",
       "  <tbody>\n",
       "    <tr>\n",
       "      <th>0</th>\n",
       "      <td>-0.05</td>\n",
       "      <td>0.0</td>\n",
       "      <td>0.0</td>\n",
       "      <td>0.0</td>\n",
       "      <td>0.0</td>\n",
       "      <td>0.0</td>\n",
       "      <td>0.0</td>\n",
       "      <td>0.0</td>\n",
       "      <td>0.0</td>\n",
       "      <td>0.0</td>\n",
       "      <td>...</td>\n",
       "      <td>0.0</td>\n",
       "      <td>0.0</td>\n",
       "      <td>0.0</td>\n",
       "      <td>0.0</td>\n",
       "      <td>0.0</td>\n",
       "      <td>0.0</td>\n",
       "      <td>0.0</td>\n",
       "      <td>0.0</td>\n",
       "      <td>0.0</td>\n",
       "      <td>0.0</td>\n",
       "    </tr>\n",
       "    <tr>\n",
       "      <th>1</th>\n",
       "      <td>0.20</td>\n",
       "      <td>0.0</td>\n",
       "      <td>0.0</td>\n",
       "      <td>0.0</td>\n",
       "      <td>0.0</td>\n",
       "      <td>0.0</td>\n",
       "      <td>0.0</td>\n",
       "      <td>0.0</td>\n",
       "      <td>0.0</td>\n",
       "      <td>0.0</td>\n",
       "      <td>...</td>\n",
       "      <td>0.0</td>\n",
       "      <td>0.0</td>\n",
       "      <td>0.0</td>\n",
       "      <td>0.0</td>\n",
       "      <td>0.0</td>\n",
       "      <td>0.0</td>\n",
       "      <td>0.0</td>\n",
       "      <td>0.0</td>\n",
       "      <td>0.0</td>\n",
       "      <td>0.0</td>\n",
       "    </tr>\n",
       "    <tr>\n",
       "      <th>2</th>\n",
       "      <td>0.55</td>\n",
       "      <td>0.0</td>\n",
       "      <td>0.0</td>\n",
       "      <td>0.0</td>\n",
       "      <td>0.0</td>\n",
       "      <td>0.0</td>\n",
       "      <td>0.0</td>\n",
       "      <td>0.0</td>\n",
       "      <td>0.0</td>\n",
       "      <td>0.0</td>\n",
       "      <td>...</td>\n",
       "      <td>0.0</td>\n",
       "      <td>0.0</td>\n",
       "      <td>0.0</td>\n",
       "      <td>0.0</td>\n",
       "      <td>0.0</td>\n",
       "      <td>0.0</td>\n",
       "      <td>0.0</td>\n",
       "      <td>0.0</td>\n",
       "      <td>0.0</td>\n",
       "      <td>0.0</td>\n",
       "    </tr>\n",
       "  </tbody>\n",
       "</table>\n",
       "<p>3 rows × 108 columns</p>\n",
       "</div>"
      ],
      "text/plain": [
       "    age  workclass_1  workclass_2  workclass_3  workclass_4  workclass_5  \\\n",
       "0 -0.05          0.0          0.0          0.0          0.0          0.0   \n",
       "1  0.20          0.0          0.0          0.0          0.0          0.0   \n",
       "2  0.55          0.0          0.0          0.0          0.0          0.0   \n",
       "\n",
       "   workclass_6  workclass_7  workclass_8  workclass_9  ...  native_country_33  \\\n",
       "0          0.0          0.0          0.0          0.0  ...                0.0   \n",
       "1          0.0          0.0          0.0          0.0  ...                0.0   \n",
       "2          0.0          0.0          0.0          0.0  ...                0.0   \n",
       "\n",
       "   native_country_34  native_country_35  native_country_36  native_country_37  \\\n",
       "0                0.0                0.0                0.0                0.0   \n",
       "1                0.0                0.0                0.0                0.0   \n",
       "2                0.0                0.0                0.0                0.0   \n",
       "\n",
       "   native_country_38  native_country_39  native_country_40  native_country_41  \\\n",
       "0                0.0                0.0                0.0                0.0   \n",
       "1                0.0                0.0                0.0                0.0   \n",
       "2                0.0                0.0                0.0                0.0   \n",
       "\n",
       "   native_country_42  \n",
       "0                0.0  \n",
       "1                0.0  \n",
       "2                0.0  \n",
       "\n",
       "[3 rows x 108 columns]"
      ]
     },
     "execution_count": 36,
     "metadata": {},
     "output_type": "execute_result"
    }
   ],
   "source": [
    "train_x.head(3)"
   ]
  },
  {
   "cell_type": "code",
   "execution_count": 49,
   "id": "dce60c0e-1486-47bf-8904-dc0b84cd7f16",
   "metadata": {},
   "outputs": [
    {
     "name": "stderr",
     "output_type": "stream",
     "text": [
      "C:\\Users\\johny\\AppData\\Roaming\\Python\\Python38\\site-packages\\sklearn\\utils\\deprecation.py:143: FutureWarning: The sklearn.utils.testing module is  deprecated in version 0.22 and will be removed in version 0.24. The corresponding classes / functions should instead be imported from sklearn.utils. Anything that cannot be imported from sklearn.utils is now part of the private API.\n",
      "  warnings.warn(message, FutureWarning)\n",
      "  3%|██▊                                                                                | 1/29 [00:02<01:01,  2.20s/it]"
     ]
    },
    {
     "name": "stdout",
     "output_type": "stream",
     "text": [
      "{'Model': 'AdaBoostClassifier', 'Accuracy': 0.8610471364962383, 'Balanced Accuracy': 0.7769631765749778, 'ROC AUC': 0.7769631765749778, 'F1 Score': 0.8556816469942363, 'Time taken': 2.203733205795288}\n"
     ]
    },
    {
     "name": "stderr",
     "output_type": "stream",
     "text": [
      " 10%|████████▌                                                                          | 3/29 [00:04<00:33,  1.30s/it]"
     ]
    },
    {
     "name": "stdout",
     "output_type": "stream",
     "text": [
      "{'Model': 'BaggingClassifier', 'Accuracy': 0.8433901427913404, 'Balanced Accuracy': 0.7559713609913126, 'ROC AUC': 0.7559713609913127, 'F1 Score': 0.8380043802235441, 'Time taken': 2.246957540512085}\n",
      "{'Model': 'BernoulliNB', 'Accuracy': 0.7798249654537079, 'Balanced Accuracy': 0.7831425011865212, 'ROC AUC': 0.7831425011865211, 'F1 Score': 0.7922701725528635, 'Time taken': 0.1882338523864746}\n"
     ]
    },
    {
     "name": "stderr",
     "output_type": "stream",
     "text": [
      " 17%|██████████████▎                                                                    | 5/29 [00:36<03:28,  8.67s/it]"
     ]
    },
    {
     "name": "stdout",
     "output_type": "stream",
     "text": [
      "{'Model': 'CalibratedClassifierCV', 'Accuracy': 0.8547520343927529, 'Balanced Accuracy': 0.7684622686283815, 'ROC AUC': 0.7684622686283815, 'F1 Score': 0.8491649204535106, 'Time taken': 32.164515018463135}\n"
     ]
    },
    {
     "name": "stderr",
     "output_type": "stream",
     "text": [
      " 24%|████████████████████                                                               | 7/29 [00:37<01:28,  4.00s/it]"
     ]
    },
    {
     "name": "stdout",
     "output_type": "stream",
     "text": [
      "{'Model': 'DecisionTreeClassifier', 'Accuracy': 0.8139106402579457, 'Balanced Accuracy': 0.7520191494191206, 'ROC AUC': 0.7520191494191205, 'F1 Score': 0.8150894887032895, 'Time taken': 0.46400022506713867}\n",
      "{'Model': 'DummyClassifier', 'Accuracy': 0.6361123906034085, 'Balanced Accuracy': 0.5007877468479809, 'ROC AUC': 0.5007877468479809, 'F1 Score': 0.635553689456495, 'Time taken': 0.14003324508666992}\n"
     ]
    },
    {
     "name": "stderr",
     "output_type": "stream",
     "text": [
      " 28%|██████████████████████▉                                                            | 8/29 [00:37<00:58,  2.79s/it]"
     ]
    },
    {
     "name": "stdout",
     "output_type": "stream",
     "text": [
      "{'Model': 'ExtraTreeClassifier', 'Accuracy': 0.7910333179794258, 'Balanced Accuracy': 0.716265721404841, 'ROC AUC': 0.716265721404841, 'F1 Score': 0.7914614234960989, 'Time taken': 0.19596338272094727}\n"
     ]
    },
    {
     "name": "stderr",
     "output_type": "stream",
     "text": [
      " 31%|█████████████████████████▊                                                         | 9/29 [00:42<01:10,  3.53s/it]"
     ]
    },
    {
     "name": "stdout",
     "output_type": "stream",
     "text": [
      "{'Model': 'ExtraTreesClassifier', 'Accuracy': 0.8283433133732535, 'Balanced Accuracy': 0.7515064949134356, 'ROC AUC': 0.7515064949134356, 'F1 Score': 0.8258302085924, 'Time taken': 5.1493682861328125}\n"
     ]
    },
    {
     "name": "stderr",
     "output_type": "stream",
     "text": [
      " 34%|████████████████████████████▎                                                     | 10/29 [00:43<00:47,  2.50s/it]"
     ]
    },
    {
     "name": "stdout",
     "output_type": "stream",
     "text": [
      "{'Model': 'GaussianNB', 'Accuracy': 0.4375863657300783, 'Balanced Accuracy': 0.6211330373908917, 'ROC AUC': 0.6211330373908917, 'F1 Score': 0.4276896898053425, 'Time taken': 0.20917248725891113}\n"
     ]
    },
    {
     "name": "stderr",
     "output_type": "stream",
     "text": [
      " 38%|███████████████████████████████                                                   | 11/29 [01:07<02:46,  9.26s/it]"
     ]
    },
    {
     "name": "stdout",
     "output_type": "stream",
     "text": [
      "{'Model': 'KNeighborsClassifier', 'Accuracy': 0.8205128205128205, 'Balanced Accuracy': 0.7365503317100348, 'ROC AUC': 0.7365503317100348, 'F1 Score': 0.8170014132156714, 'Time taken': 24.57962656021118}\n"
     ]
    },
    {
     "name": "stderr",
     "output_type": "stream",
     "text": [
      " 41%|█████████████████████████████████▉                                                | 12/29 [02:06<06:56, 24.47s/it]"
     ]
    },
    {
     "name": "stdout",
     "output_type": "stream",
     "text": [
      "{'Model': 'LabelPropagation', 'Accuracy': 0.7959465684016582, 'Balanced Accuracy': 0.7129683534182125, 'ROC AUC': 0.7129683534182125, 'F1 Score': 0.7942625426402606, 'Time taken': 59.26423454284668}\n"
     ]
    },
    {
     "name": "stderr",
     "output_type": "stream",
     "text": [
      " 45%|████████████████████████████████████▊                                             | 13/29 [03:12<09:49, 36.87s/it]"
     ]
    },
    {
     "name": "stdout",
     "output_type": "stream",
     "text": [
      "{'Model': 'LabelSpreading', 'Accuracy': 0.7984031936127745, 'Balanced Accuracy': 0.7152394451208188, 'ROC AUC': 0.7152394451208188, 'F1 Score': 0.7965017422733167, 'Time taken': 65.39831256866455}\n"
     ]
    },
    {
     "name": "stderr",
     "output_type": "stream",
     "text": [
      " 48%|███████████████████████████████████████▌                                          | 14/29 [03:13<06:29, 25.94s/it]"
     ]
    },
    {
     "name": "stdout",
     "output_type": "stream",
     "text": [
      "{'Model': 'LinearDiscriminantAnalysis', 'Accuracy': 0.8427759864885613, 'Balanced Accuracy': 0.7490339525597904, 'ROC AUC': 0.7490339525597904, 'F1 Score': 0.836069163536881, 'Time taken': 0.684241533279419}\n"
     ]
    },
    {
     "name": "stderr",
     "output_type": "stream",
     "text": [
      " 52%|██████████████████████████████████████████▍                                       | 15/29 [03:21<04:48, 20.61s/it]"
     ]
    },
    {
     "name": "stdout",
     "output_type": "stream",
     "text": [
      "{'Model': 'LinearSVC', 'Accuracy': 0.8526024873330262, 'Balanced Accuracy': 0.7666111667113762, 'ROC AUC': 0.7666111667113762, 'F1 Score': 0.8471492043684686, 'Time taken': 8.239470481872559}\n"
     ]
    },
    {
     "name": "stderr",
     "output_type": "stream",
     "text": [
      " 59%|████████████████████████████████████████████████                                  | 17/29 [03:21<02:02, 10.22s/it]"
     ]
    },
    {
     "name": "stdout",
     "output_type": "stream",
     "text": [
      "{'Model': 'LogisticRegression', 'Accuracy': 0.8512206356517734, 'Balanced Accuracy': 0.7667899831823528, 'ROC AUC': 0.7667899831823527, 'F1 Score': 0.8461255095531539, 'Time taken': 0.4914374351501465}\n",
      "{'Model': 'NearestCentroid', 'Accuracy': 0.7594042683863043, 'Balanced Accuracy': 0.7912533403148924, 'ROC AUC': 0.7912533403148924, 'F1 Score': 0.7756167122400222, 'Time taken': 0.1556553840637207}\n"
     ]
    },
    {
     "name": "stderr",
     "output_type": "stream",
     "text": [
      " 69%|████████████████████████████████████████████████████████▌                         | 20/29 [03:22<00:32,  3.64s/it]"
     ]
    },
    {
     "name": "stdout",
     "output_type": "stream",
     "text": [
      "{'Model': 'PassiveAggressiveClassifier', 'Accuracy': 0.7778289574696761, 'Balanced Accuracy': 0.7012548750541673, 'ROC AUC': 0.7012548750541673, 'F1 Score': 0.7789388103683671, 'Time taken': 0.255997896194458}\n",
      "{'Model': 'Perceptron', 'Accuracy': 0.7888837709196991, 'Balanced Accuracy': 0.6697727296176307, 'ROC AUC': 0.6697727296176306, 'F1 Score': 0.7782013659257178, 'Time taken': 0.21604585647583008}\n"
     ]
    },
    {
     "name": "stderr",
     "output_type": "stream",
     "text": [
      " 72%|███████████████████████████████████████████████████████████▍                      | 21/29 [03:22<00:21,  2.68s/it]"
     ]
    },
    {
     "name": "stdout",
     "output_type": "stream",
     "text": [
      "{'Model': 'QuadraticDiscriminantAnalysis', 'Accuracy': 0.5984953170581913, 'Balanced Accuracy': 0.6365082875920844, 'ROC AUC': 0.6365082875920843, 'F1 Score': 0.6273819887196069, 'Time taken': 0.4280102252960205}\n"
     ]
    },
    {
     "name": "stderr",
     "output_type": "stream",
     "text": [
      " 79%|█████████████████████████████████████████████████████████████████                 | 23/29 [03:26<00:12,  2.15s/it]"
     ]
    },
    {
     "name": "stdout",
     "output_type": "stream",
     "text": [
      "{'Model': 'RandomForestClassifier', 'Accuracy': 0.8524489482573315, 'Balanced Accuracy': 0.777833850931677, 'ROC AUC': 0.777833850931677, 'F1 Score': 0.8491398049122639, 'Time taken': 3.694007396697998}\n",
      "{'Model': 'RidgeClassifier', 'Accuracy': 0.839705204974666, 'Balanced Accuracy': 0.7269772987557005, 'ROC AUC': 0.7269772987557005, 'F1 Score': 0.8285321471089622, 'Time taken': 0.19999265670776367}\n"
     ]
    },
    {
     "name": "stderr",
     "output_type": "stream",
     "text": [
      " 83%|███████████████████████████████████████████████████████████████████▊              | 24/29 [03:27<00:08,  1.65s/it]"
     ]
    },
    {
     "name": "stdout",
     "output_type": "stream",
     "text": [
      "{'Model': 'RidgeClassifierCV', 'Accuracy': 0.839705204974666, 'Balanced Accuracy': 0.7269772987557005, 'ROC AUC': 0.7269772987557005, 'F1 Score': 0.8285321471089622, 'Time taken': 0.48800039291381836}\n"
     ]
    },
    {
     "name": "stderr",
     "output_type": "stream",
     "text": [
      " 86%|██████████████████████████████████████████████████████████████████████▋           | 25/29 [03:27<00:05,  1.33s/it]"
     ]
    },
    {
     "name": "stdout",
     "output_type": "stream",
     "text": [
      "{'Model': 'SGDClassifier', 'Accuracy': 0.8460003070781514, 'Balanced Accuracy': 0.7672719429025401, 'ROC AUC': 0.7672719429025402, 'F1 Score': 0.8422196561250589, 'Time taken': 0.5917069911956787}\n"
     ]
    },
    {
     "name": "stderr",
     "output_type": "stream",
     "text": [
      " 90%|█████████████████████████████████████████████████████████████████████████▌        | 26/29 [04:28<00:56, 18.97s/it]"
     ]
    },
    {
     "name": "stdout",
     "output_type": "stream",
     "text": [
      "{'Model': 'SVC', 'Accuracy': 0.8515277138031629, 'Balanced Accuracy': 0.7547973499308722, 'ROC AUC': 0.7547973499308723, 'F1 Score': 0.8438723668345367, 'Time taken': 60.13037657737732}\n"
     ]
    },
    {
     "name": "stderr",
     "output_type": "stream",
     "text": [
      " 97%|███████████████████████████████████████████████████████████████████████████████▏  | 28/29 [04:33<00:11, 11.57s/it]"
     ]
    },
    {
     "name": "stdout",
     "output_type": "stream",
     "text": [
      "{'Model': 'XGBClassifier', 'Accuracy': 0.8734838016275142, 'Balanced Accuracy': 0.8051876766884711, 'ROC AUC': 0.8051876766884711, 'F1 Score': 0.8704285438954787, 'Time taken': 5.852156162261963}\n"
     ]
    },
    {
     "name": "stderr",
     "output_type": "stream",
     "text": [
      "100%|██████████████████████████████████████████████████████████████████████████████████| 29/29 [04:34<00:00,  9.47s/it]"
     ]
    },
    {
     "name": "stdout",
     "output_type": "stream",
     "text": [
      "{'Model': 'LGBMClassifier', 'Accuracy': 0.8713342545677875, 'Balanced Accuracy': 0.8005056256577454, 'ROC AUC': 0.8005056256577454, 'F1 Score': 0.8679503994240579, 'Time taken': 0.7869865894317627}\n"
     ]
    },
    {
     "name": "stderr",
     "output_type": "stream",
     "text": [
      "\n"
     ]
    }
   ],
   "source": [
    "from lazypredict.Supervised import LazyClassifier, LazyRegressor\n",
    "\n",
    "lzc = LazyClassifier(verbose=1,\n",
    "    ignore_warnings=True,\n",
    "    predictions=True,\n",
    "    random_state=42,\n",
    "    classifiers='all')\n",
    "\n",
    "models, preds = lzc.fit(train_x, test_x, train_y, test_y)"
   ]
  },
  {
   "cell_type": "code",
   "execution_count": 50,
   "id": "194e1008-3a7e-4475-b565-bd61f921d975",
   "metadata": {},
   "outputs": [
    {
     "data": {
      "text/html": [
       "<div>\n",
       "<style scoped>\n",
       "    .dataframe tbody tr th:only-of-type {\n",
       "        vertical-align: middle;\n",
       "    }\n",
       "\n",
       "    .dataframe tbody tr th {\n",
       "        vertical-align: top;\n",
       "    }\n",
       "\n",
       "    .dataframe thead th {\n",
       "        text-align: right;\n",
       "    }\n",
       "</style>\n",
       "<table border=\"1\" class=\"dataframe\">\n",
       "  <thead>\n",
       "    <tr style=\"text-align: right;\">\n",
       "      <th></th>\n",
       "      <th>Accuracy</th>\n",
       "      <th>Balanced Accuracy</th>\n",
       "      <th>ROC AUC</th>\n",
       "      <th>F1 Score</th>\n",
       "      <th>Time Taken</th>\n",
       "    </tr>\n",
       "    <tr>\n",
       "      <th>Model</th>\n",
       "      <th></th>\n",
       "      <th></th>\n",
       "      <th></th>\n",
       "      <th></th>\n",
       "      <th></th>\n",
       "    </tr>\n",
       "  </thead>\n",
       "  <tbody>\n",
       "    <tr>\n",
       "      <th>XGBClassifier</th>\n",
       "      <td>0.87</td>\n",
       "      <td>0.81</td>\n",
       "      <td>0.81</td>\n",
       "      <td>0.87</td>\n",
       "      <td>5.85</td>\n",
       "    </tr>\n",
       "    <tr>\n",
       "      <th>LGBMClassifier</th>\n",
       "      <td>0.87</td>\n",
       "      <td>0.80</td>\n",
       "      <td>0.80</td>\n",
       "      <td>0.87</td>\n",
       "      <td>0.79</td>\n",
       "    </tr>\n",
       "    <tr>\n",
       "      <th>NearestCentroid</th>\n",
       "      <td>0.76</td>\n",
       "      <td>0.79</td>\n",
       "      <td>0.79</td>\n",
       "      <td>0.78</td>\n",
       "      <td>0.16</td>\n",
       "    </tr>\n",
       "    <tr>\n",
       "      <th>BernoulliNB</th>\n",
       "      <td>0.78</td>\n",
       "      <td>0.78</td>\n",
       "      <td>0.78</td>\n",
       "      <td>0.79</td>\n",
       "      <td>0.19</td>\n",
       "    </tr>\n",
       "    <tr>\n",
       "      <th>RandomForestClassifier</th>\n",
       "      <td>0.85</td>\n",
       "      <td>0.78</td>\n",
       "      <td>0.78</td>\n",
       "      <td>0.85</td>\n",
       "      <td>3.69</td>\n",
       "    </tr>\n",
       "    <tr>\n",
       "      <th>AdaBoostClassifier</th>\n",
       "      <td>0.86</td>\n",
       "      <td>0.78</td>\n",
       "      <td>0.78</td>\n",
       "      <td>0.86</td>\n",
       "      <td>2.20</td>\n",
       "    </tr>\n",
       "    <tr>\n",
       "      <th>CalibratedClassifierCV</th>\n",
       "      <td>0.85</td>\n",
       "      <td>0.77</td>\n",
       "      <td>0.77</td>\n",
       "      <td>0.85</td>\n",
       "      <td>32.16</td>\n",
       "    </tr>\n",
       "    <tr>\n",
       "      <th>SGDClassifier</th>\n",
       "      <td>0.85</td>\n",
       "      <td>0.77</td>\n",
       "      <td>0.77</td>\n",
       "      <td>0.84</td>\n",
       "      <td>0.59</td>\n",
       "    </tr>\n",
       "    <tr>\n",
       "      <th>LogisticRegression</th>\n",
       "      <td>0.85</td>\n",
       "      <td>0.77</td>\n",
       "      <td>0.77</td>\n",
       "      <td>0.85</td>\n",
       "      <td>0.49</td>\n",
       "    </tr>\n",
       "    <tr>\n",
       "      <th>LinearSVC</th>\n",
       "      <td>0.85</td>\n",
       "      <td>0.77</td>\n",
       "      <td>0.77</td>\n",
       "      <td>0.85</td>\n",
       "      <td>8.24</td>\n",
       "    </tr>\n",
       "    <tr>\n",
       "      <th>BaggingClassifier</th>\n",
       "      <td>0.84</td>\n",
       "      <td>0.76</td>\n",
       "      <td>0.76</td>\n",
       "      <td>0.84</td>\n",
       "      <td>2.25</td>\n",
       "    </tr>\n",
       "    <tr>\n",
       "      <th>SVC</th>\n",
       "      <td>0.85</td>\n",
       "      <td>0.75</td>\n",
       "      <td>0.75</td>\n",
       "      <td>0.84</td>\n",
       "      <td>60.13</td>\n",
       "    </tr>\n",
       "    <tr>\n",
       "      <th>DecisionTreeClassifier</th>\n",
       "      <td>0.81</td>\n",
       "      <td>0.75</td>\n",
       "      <td>0.75</td>\n",
       "      <td>0.82</td>\n",
       "      <td>0.46</td>\n",
       "    </tr>\n",
       "    <tr>\n",
       "      <th>ExtraTreesClassifier</th>\n",
       "      <td>0.83</td>\n",
       "      <td>0.75</td>\n",
       "      <td>0.75</td>\n",
       "      <td>0.83</td>\n",
       "      <td>5.15</td>\n",
       "    </tr>\n",
       "    <tr>\n",
       "      <th>LinearDiscriminantAnalysis</th>\n",
       "      <td>0.84</td>\n",
       "      <td>0.75</td>\n",
       "      <td>0.75</td>\n",
       "      <td>0.84</td>\n",
       "      <td>0.68</td>\n",
       "    </tr>\n",
       "    <tr>\n",
       "      <th>KNeighborsClassifier</th>\n",
       "      <td>0.82</td>\n",
       "      <td>0.74</td>\n",
       "      <td>0.74</td>\n",
       "      <td>0.82</td>\n",
       "      <td>24.58</td>\n",
       "    </tr>\n",
       "    <tr>\n",
       "      <th>RidgeClassifierCV</th>\n",
       "      <td>0.84</td>\n",
       "      <td>0.73</td>\n",
       "      <td>0.73</td>\n",
       "      <td>0.83</td>\n",
       "      <td>0.49</td>\n",
       "    </tr>\n",
       "    <tr>\n",
       "      <th>RidgeClassifier</th>\n",
       "      <td>0.84</td>\n",
       "      <td>0.73</td>\n",
       "      <td>0.73</td>\n",
       "      <td>0.83</td>\n",
       "      <td>0.20</td>\n",
       "    </tr>\n",
       "    <tr>\n",
       "      <th>ExtraTreeClassifier</th>\n",
       "      <td>0.79</td>\n",
       "      <td>0.72</td>\n",
       "      <td>0.72</td>\n",
       "      <td>0.79</td>\n",
       "      <td>0.20</td>\n",
       "    </tr>\n",
       "    <tr>\n",
       "      <th>LabelSpreading</th>\n",
       "      <td>0.80</td>\n",
       "      <td>0.72</td>\n",
       "      <td>0.72</td>\n",
       "      <td>0.80</td>\n",
       "      <td>65.40</td>\n",
       "    </tr>\n",
       "    <tr>\n",
       "      <th>LabelPropagation</th>\n",
       "      <td>0.80</td>\n",
       "      <td>0.71</td>\n",
       "      <td>0.71</td>\n",
       "      <td>0.79</td>\n",
       "      <td>59.26</td>\n",
       "    </tr>\n",
       "    <tr>\n",
       "      <th>PassiveAggressiveClassifier</th>\n",
       "      <td>0.78</td>\n",
       "      <td>0.70</td>\n",
       "      <td>0.70</td>\n",
       "      <td>0.78</td>\n",
       "      <td>0.26</td>\n",
       "    </tr>\n",
       "    <tr>\n",
       "      <th>Perceptron</th>\n",
       "      <td>0.79</td>\n",
       "      <td>0.67</td>\n",
       "      <td>0.67</td>\n",
       "      <td>0.78</td>\n",
       "      <td>0.22</td>\n",
       "    </tr>\n",
       "    <tr>\n",
       "      <th>QuadraticDiscriminantAnalysis</th>\n",
       "      <td>0.60</td>\n",
       "      <td>0.64</td>\n",
       "      <td>0.64</td>\n",
       "      <td>0.63</td>\n",
       "      <td>0.43</td>\n",
       "    </tr>\n",
       "    <tr>\n",
       "      <th>GaussianNB</th>\n",
       "      <td>0.44</td>\n",
       "      <td>0.62</td>\n",
       "      <td>0.62</td>\n",
       "      <td>0.43</td>\n",
       "      <td>0.21</td>\n",
       "    </tr>\n",
       "    <tr>\n",
       "      <th>DummyClassifier</th>\n",
       "      <td>0.64</td>\n",
       "      <td>0.50</td>\n",
       "      <td>0.50</td>\n",
       "      <td>0.64</td>\n",
       "      <td>0.14</td>\n",
       "    </tr>\n",
       "  </tbody>\n",
       "</table>\n",
       "</div>"
      ],
      "text/plain": [
       "                               Accuracy  Balanced Accuracy  ROC AUC  F1 Score  \\\n",
       "Model                                                                           \n",
       "XGBClassifier                      0.87               0.81     0.81      0.87   \n",
       "LGBMClassifier                     0.87               0.80     0.80      0.87   \n",
       "NearestCentroid                    0.76               0.79     0.79      0.78   \n",
       "BernoulliNB                        0.78               0.78     0.78      0.79   \n",
       "RandomForestClassifier             0.85               0.78     0.78      0.85   \n",
       "AdaBoostClassifier                 0.86               0.78     0.78      0.86   \n",
       "CalibratedClassifierCV             0.85               0.77     0.77      0.85   \n",
       "SGDClassifier                      0.85               0.77     0.77      0.84   \n",
       "LogisticRegression                 0.85               0.77     0.77      0.85   \n",
       "LinearSVC                          0.85               0.77     0.77      0.85   \n",
       "BaggingClassifier                  0.84               0.76     0.76      0.84   \n",
       "SVC                                0.85               0.75     0.75      0.84   \n",
       "DecisionTreeClassifier             0.81               0.75     0.75      0.82   \n",
       "ExtraTreesClassifier               0.83               0.75     0.75      0.83   \n",
       "LinearDiscriminantAnalysis         0.84               0.75     0.75      0.84   \n",
       "KNeighborsClassifier               0.82               0.74     0.74      0.82   \n",
       "RidgeClassifierCV                  0.84               0.73     0.73      0.83   \n",
       "RidgeClassifier                    0.84               0.73     0.73      0.83   \n",
       "ExtraTreeClassifier                0.79               0.72     0.72      0.79   \n",
       "LabelSpreading                     0.80               0.72     0.72      0.80   \n",
       "LabelPropagation                   0.80               0.71     0.71      0.79   \n",
       "PassiveAggressiveClassifier        0.78               0.70     0.70      0.78   \n",
       "Perceptron                         0.79               0.67     0.67      0.78   \n",
       "QuadraticDiscriminantAnalysis      0.60               0.64     0.64      0.63   \n",
       "GaussianNB                         0.44               0.62     0.62      0.43   \n",
       "DummyClassifier                    0.64               0.50     0.50      0.64   \n",
       "\n",
       "                               Time Taken  \n",
       "Model                                      \n",
       "XGBClassifier                        5.85  \n",
       "LGBMClassifier                       0.79  \n",
       "NearestCentroid                      0.16  \n",
       "BernoulliNB                          0.19  \n",
       "RandomForestClassifier               3.69  \n",
       "AdaBoostClassifier                   2.20  \n",
       "CalibratedClassifierCV              32.16  \n",
       "SGDClassifier                        0.59  \n",
       "LogisticRegression                   0.49  \n",
       "LinearSVC                            8.24  \n",
       "BaggingClassifier                    2.25  \n",
       "SVC                                 60.13  \n",
       "DecisionTreeClassifier               0.46  \n",
       "ExtraTreesClassifier                 5.15  \n",
       "LinearDiscriminantAnalysis           0.68  \n",
       "KNeighborsClassifier                24.58  \n",
       "RidgeClassifierCV                    0.49  \n",
       "RidgeClassifier                      0.20  \n",
       "ExtraTreeClassifier                  0.20  \n",
       "LabelSpreading                      65.40  \n",
       "LabelPropagation                    59.26  \n",
       "PassiveAggressiveClassifier          0.26  \n",
       "Perceptron                           0.22  \n",
       "QuadraticDiscriminantAnalysis        0.43  \n",
       "GaussianNB                           0.21  \n",
       "DummyClassifier                      0.14  "
      ]
     },
     "execution_count": 50,
     "metadata": {},
     "output_type": "execute_result"
    }
   ],
   "source": [
    "models"
   ]
  }
 ],
 "metadata": {
  "kernelspec": {
   "display_name": "trad_mlenv",
   "language": "python",
   "name": "trad_mlenv"
  },
  "language_info": {
   "codemirror_mode": {
    "name": "ipython",
    "version": 3
   },
   "file_extension": ".py",
   "mimetype": "text/x-python",
   "name": "python",
   "nbconvert_exporter": "python",
   "pygments_lexer": "ipython3",
   "version": "3.8.13"
  }
 },
 "nbformat": 4,
 "nbformat_minor": 5
}
